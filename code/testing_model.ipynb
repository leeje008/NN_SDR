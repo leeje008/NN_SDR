{
 "cells": [
  {
   "cell_type": "markdown",
   "id": "591f0439-a397-4e94-a5a2-ed8ac11b99d6",
   "metadata": {},
   "source": [
    "## model1"
   ]
  },
  {
   "cell_type": "code",
   "execution_count": 10,
   "id": "8467610f-64f4-4249-b72c-8703fbbede63",
   "metadata": {},
   "outputs": [],
   "source": [
    "from data_generator import *\n",
    "from init_sdr import *\n",
    "from main import *\n",
    "from common import *\n",
    "from measure import *\n",
    "\n",
    "from cv_model import *\n",
    "\n",
    "import json\n",
    "\n",
    "import json\n",
    "\n",
    "import ray\n",
    "import time\n",
    "import warnings\n",
    "\n",
    "import torch\n",
    "import argparse\n",
    "import ray\n",
    "from ray import tune\n",
    "from ray.tune import Trainable\n",
    "from itertools import product\n",
    "import itertools\n",
    "\n",
    "import torch\n",
    "import torch.nn as nn\n",
    "import torch.optim as optim\n",
    "from torch.utils.data import DataLoader, random_split, Dataset, Subset\n",
    "from torchvision import datasets, transforms\n",
    "from init_sdr import *\n",
    "\n",
    "import ray\n",
    "import copy\n",
    "\n",
    "\n",
    "import time\n",
    "\n",
    "from sklearn.model_selection import KFold\n",
    "\n",
    "import argparse\n",
    "\n",
    "import shutil\n",
    "\n",
    "import torch\n",
    "from torch.utils.data import Dataset, DataLoader\n",
    "import numpy as np\n",
    "import ray\n",
    "from ray import tune\n",
    "from ray.tune.schedulers import ASHAScheduler\n",
    "from ray.tune.search import ConcurrencyLimiter\n",
    "from typing import List, Dict\n",
    "\n",
    "from ray.tune import CLIReporter\n",
    "import warnings\n",
    "\n",
    "from ray.tune.search.bayesopt import BayesOptSearch\n",
    "\n",
    "\n",
    "import math\n",
    "from test_model import *\n",
    "from measure import *\n",
    "\n",
    "\n",
    "\n",
    "from collections import Counter"
   ]
  },
  {
   "cell_type": "code",
   "execution_count": 15,
   "id": "7625acf9-f445-48b6-acb2-1b68989c5bfc",
   "metadata": {},
   "outputs": [
    {
     "name": "stdout",
     "output_type": "stream",
     "text": [
      "Mean model: 35.71869659423828\n",
      "Std of target: 5.9824981689453125\n",
      "shape of X torch.Size([500, 20])\n",
      "{'h_dim1': 1, 'h_dim2': 20, 'sample_size': 500, 'num_features': 20, 'lambda_0': 0.005, 'lr': 0.025, 'epoch': 1000, 'seed': -1, 'model_num': 'model1', 'num_cv': 5, 'or_pen': 'pro', 'dim': 'known', 'data_seed': 200}\n",
      "Estimation of dimension\n",
      "1\n"
     ]
    }
   ],
   "source": [
    "torch.set_printoptions(sci_mode=False)\n",
    "\n",
    "\n",
    "d_seed  = 200\n",
    "\n",
    "best_config1 = {'h_dim1': 1, 'h_dim2': 20, 'sample_size': 500, 'num_features': 20, 'lambda_0': 0.005,\n",
    "                'lr': 0.025, 'epoch': 1000, 'seed': -1, 'model_num': 'model1', 'num_cv': 5, 'or_pen': 'pro', 'dim': 'known'}\n",
    "\n",
    "best_config1['data_seed'] = d_seed \n",
    "\n",
    "\n",
    "d_set = SyntheticDataset(sample_size = best_config1['sample_size'], num_features = best_config1['num_features'], model_num = best_config1['model_num'] , seed = best_config1['data_seed'])\n",
    "\n",
    "d_size = len(d_set)\n",
    "\n",
    "d_loader = DataLoader(d_set, batch_size = d_size , shuffle=True)\n",
    "for train_x, train_y in d_loader:\n",
    "    X, y = train_x, train_y\n",
    "    \n",
    "y_mean = torch.mean(y)\n",
    "mse_mean = torch.mean((y - y_mean) ** 2)\n",
    "print('Mean model:', mse_mean.item())\n",
    "print(\"Std of target:\", torch.std(y).item())\n",
    "# print('cov of X', torch.cov(X.T))\n",
    "print('shape of X', X.size())\n",
    "print(best_config1)\n",
    "\n",
    "\n",
    "train_mse_list1, val_mse_list1, train_custom_list1, val_custom_list1, model1 = train_model(best_config1, state = 'test')\n",
    "print(\"Estimation of dimension\")\n",
    "print(len(nonzero_dim(model1.state_dict()['layer2.weight'].T, 1e-5)))"
   ]
  },
  {
   "cell_type": "code",
   "execution_count": 16,
   "id": "0f92ec9b-1fd3-423a-9c31-504abd42255e",
   "metadata": {},
   "outputs": [
    {
     "data": {
      "text/plain": [
       "0.38065552711486816"
      ]
     },
     "execution_count": 16,
     "metadata": {},
     "output_type": "execute_result"
    }
   ],
   "source": [
    "val_mse_list1[-1]"
   ]
  },
  {
   "cell_type": "code",
   "execution_count": 17,
   "id": "810953b1-421a-4136-ae09-eeed0599a9c5",
   "metadata": {},
   "outputs": [
    {
     "data": {
      "text/plain": [
       "0.3829418122768402"
      ]
     },
     "execution_count": 17,
     "metadata": {},
     "output_type": "execute_result"
    }
   ],
   "source": [
    "val_custom_list1[-1]"
   ]
  },
  {
   "cell_type": "code",
   "execution_count": 5,
   "id": "fd281d4f-7dad-4f7b-a0d8-90c77d5611c3",
   "metadata": {},
   "outputs": [
    {
     "name": "stdout",
     "output_type": "stream",
     "text": [
      "tensor([4.6059, 2.1448])\n"
     ]
    }
   ],
   "source": [
    "S = torch.linalg.svdvals(model1.state_dict()['layer2.weight'])\n",
    "print(S)"
   ]
  },
  {
   "cell_type": "code",
   "execution_count": 18,
   "id": "c689c41f-f892-4847-aa68-ca1807578fce",
   "metadata": {},
   "outputs": [
    {
     "name": "stdout",
     "output_type": "stream",
     "text": [
      "tensor([[ 0.3802,  0.1884,  0.3785,  0.0021, -0.0081,  0.0065, -0.0075, -0.0039,\n",
      "          0.0056,  0.0078, -0.0076,  0.0027, -0.0065, -0.0038,  0.0029,  0.0097,\n",
      "         -0.0026, -0.0027,  0.0023, -0.0009]])\n"
     ]
    }
   ],
   "source": [
    "print(model1.state_dict()['layer1.weight'])"
   ]
  },
  {
   "cell_type": "markdown",
   "id": "4546eb28-2135-4fa4-a0ac-99332983dd2f",
   "metadata": {},
   "source": [
    "## estimate other method"
   ]
  },
  {
   "cell_type": "code",
   "execution_count": 19,
   "id": "21b890e3-0e26-42c7-8e5a-a6b7f5a04b23",
   "metadata": {},
   "outputs": [],
   "source": [
    "dnn_est = model1.state_dict()['layer1.weight'].T\n",
    "\n",
    "sir = sdr(X, y, dim = best_config1['h_dim1'], mode = 'sir')\n",
    "dr = sdr(X, y, dim = best_config1['h_dim1'], mode = 'dr')\n",
    "save = sdr(X, y, dim = best_config1['h_dim1'], mode = 'save')\n",
    "mave = sdr(X, y, dim = best_config1['h_dim1'], mode = 'mave')\n",
    "rmave = sdr(X, y, dim = best_config1['h_dim1'], mode = 'rmave')"
   ]
  },
  {
   "cell_type": "markdown",
   "id": "dd5cd93b-0272-4a11-a034-ee14c67959f3",
   "metadata": {},
   "source": [
    "## General loss"
   ]
  },
  {
   "cell_type": "code",
   "execution_count": 20,
   "id": "2962a97e-7eaf-492a-8432-8eac2a8ed6e7",
   "metadata": {},
   "outputs": [],
   "source": [
    "true_est = CMS(best_config1['model_num'], X)"
   ]
  },
  {
   "cell_type": "code",
   "execution_count": 21,
   "id": "139ec5ce-bfc4-4020-827e-c12de6d8aaf4",
   "metadata": {},
   "outputs": [
    {
     "name": "stdout",
     "output_type": "stream",
     "text": [
      "Our model General Loss: 0.0032157613895833492\n",
      "SIR General Loss: 0.14166158437728882\n",
      "SAVE General Loss: 0.18684054911136627\n",
      "DR General Loss: 0.2463175505399704\n",
      "MAVE General Loss: 0.11272571235895157\n",
      "rMAVE General Loss: 0.018787777051329613\n"
     ]
    }
   ],
   "source": [
    "print(\"Our model General Loss:\", general_loss(dnn_est, true_est))\n",
    "print(\"SIR General Loss:\", general_loss(sir, true_est))\n",
    "print(\"SAVE General Loss:\", general_loss(save, true_est))\n",
    "print(\"DR General Loss:\", general_loss(dr, true_est))\n",
    "print(\"MAVE General Loss:\", general_loss(mave, true_est))\n",
    "print(\"rMAVE General Loss:\", general_loss(rmave, true_est))"
   ]
  },
  {
   "cell_type": "markdown",
   "id": "b1902224-66b4-4927-9bd7-432b5045a455",
   "metadata": {},
   "source": [
    "## Projection Loss"
   ]
  },
  {
   "cell_type": "code",
   "execution_count": 22,
   "id": "9285b9e7-253e-4d75-9bd2-88087b6471dc",
   "metadata": {},
   "outputs": [
    {
     "name": "stdout",
     "output_type": "stream",
     "text": [
      "Our model Projection Loss: 0.0032157618552446365\n",
      "SIR Projection Loss: 0.14166156947612762\n",
      "SAVE Projection Loss: 0.18684054911136627\n",
      "DR Projection Loss: 0.24631758034229279\n",
      "MAVE Projection Loss: 0.11272571235895157\n",
      "rMAVE Projection Loss: 0.01878778077661991\n"
     ]
    }
   ],
   "source": [
    "print(\"Our model Projection Loss:\", projection_loss(dnn_est, true_est))\n",
    "print(\"SIR Projection Loss:\", projection_loss(sir, true_est))\n",
    "print(\"SAVE Projection Loss:\", projection_loss(save, true_est))\n",
    "print(\"DR Projection Loss:\", projection_loss(dr, true_est))\n",
    "print(\"MAVE Projection Loss:\", projection_loss(mave, true_est))\n",
    "print(\"rMAVE Projection Loss:\", projection_loss(rmave, true_est))"
   ]
  },
  {
   "cell_type": "markdown",
   "id": "95c1766b-e0a1-4cc5-915e-1dc55b0ca11a",
   "metadata": {},
   "source": [
    "## Prediction Loss"
   ]
  },
  {
   "cell_type": "code",
   "execution_count": 23,
   "id": "8858ae1f-82ad-4610-aea7-604af3f0716e",
   "metadata": {},
   "outputs": [
    {
     "name": "stdout",
     "output_type": "stream",
     "text": [
      "Our model Correlation_loss: 0.0005922317504882812\n",
      "SIR Correlation_loss: 0.027440369129180908\n",
      "SAVE Correlation_loss: 0.032694458961486816\n",
      "DR Correlation_loss: 0.044051945209503174\n",
      "MAVE Correlation_loss: 0.023510634899139404\n",
      "rMAVE Correlation_loss: 0.0028000473976135254\n"
     ]
    }
   ],
   "source": [
    "best_config1['data_seed'] = d_seed**2\n",
    "\n",
    "\n",
    "d_set = SyntheticDataset(sample_size = best_config1['sample_size'], num_features = best_config1['num_features'], model_num = best_config1['model_num'] , seed = best_config1['data_seed'])\n",
    "\n",
    "d_size = len(d_set)\n",
    "\n",
    "d_loader = DataLoader(d_set, batch_size = d_size , shuffle=True)\n",
    "for train_x, train_y in d_loader:\n",
    "    new_X, _ = train_x, train_y\n",
    "\n",
    "\n",
    "print(\"Our model Correlation_loss:\", Correlation_loss(dnn_est, true_est, new_X))\n",
    "print(\"SIR Correlation_loss:\", Correlation_loss(sir, true_est, new_X))\n",
    "print(\"SAVE Correlation_loss:\", Correlation_loss(save, true_est, new_X))\n",
    "print(\"DR Correlation_loss:\", Correlation_loss(dr, true_est, new_X))\n",
    "print(\"MAVE Correlation_loss:\", Correlation_loss(mave, true_est, new_X))\n",
    "print(\"rMAVE Correlation_loss:\", Correlation_loss(rmave, true_est, new_X))"
   ]
  },
  {
   "cell_type": "markdown",
   "id": "50319a03-5f31-4bad-986d-5ccf77103a12",
   "metadata": {},
   "source": [
    "# sample 100"
   ]
  },
  {
   "cell_type": "code",
   "execution_count": 12,
   "id": "2f9dcd31-6861-47f7-8d43-b10a168282b8",
   "metadata": {},
   "outputs": [
    {
     "name": "stdout",
     "output_type": "stream",
     "text": [
      "{'h_dim1': 10, 'h_dim2': 20, 'sample_size': 500, 'num_features': 20, 'lambda_0': 0.005, 'lambda_1': 2.5, 'lr': 0.0025, 'epoch': 5000, 'seed': -1, 'model_num': 'model1', 'num_cv': 5, 'or_pen': 'pro', 'dim': 'unknown', 'data_seed': 200}\n",
      "1 iteration\n",
      "2 iteration\n",
      "3 iteration\n",
      "4 iteration\n",
      "5 iteration\n",
      "6 iteration\n",
      "7 iteration\n",
      "8 iteration\n",
      "9 iteration\n",
      "10 iteration\n",
      "11 iteration\n",
      "12 iteration\n",
      "13 iteration\n",
      "14 iteration\n",
      "15 iteration\n",
      "16 iteration\n",
      "17 iteration\n",
      "18 iteration\n",
      "19 iteration\n",
      "20 iteration\n",
      "21 iteration\n",
      "22 iteration\n",
      "23 iteration\n",
      "24 iteration\n",
      "25 iteration\n"
     ]
    },
    {
     "ename": "KeyboardInterrupt",
     "evalue": "",
     "output_type": "error",
     "traceback": [
      "\u001b[0;31m---------------------------------------------------------------------------\u001b[0m",
      "\u001b[0;31mKeyboardInterrupt\u001b[0m                         Traceback (most recent call last)",
      "Cell \u001b[0;32mIn [12], line 9\u001b[0m\n\u001b[1;32m      7\u001b[0m     best_config1[\u001b[38;5;124m'\u001b[39m\u001b[38;5;124mdata_seed\u001b[39m\u001b[38;5;124m'\u001b[39m] \u001b[38;5;241m=\u001b[39m i \n\u001b[1;32m      8\u001b[0m     \u001b[38;5;28mprint\u001b[39m(i\u001b[38;5;241m+\u001b[39m\u001b[38;5;241m1\u001b[39m,\u001b[38;5;124m'\u001b[39m\u001b[38;5;124miteration\u001b[39m\u001b[38;5;124m'\u001b[39m)\n\u001b[0;32m----> 9\u001b[0m     train_mse_list1, val_mse_list1, train_custom_list1, val_custom_list1, model1 \u001b[38;5;241m=\u001b[39m \u001b[43mtrain_model\u001b[49m\u001b[43m(\u001b[49m\u001b[43mbest_config1\u001b[49m\u001b[43m,\u001b[49m\u001b[43m \u001b[49m\u001b[43mstate\u001b[49m\u001b[43m \u001b[49m\u001b[38;5;241;43m=\u001b[39;49m\u001b[43m \u001b[49m\u001b[38;5;124;43m'\u001b[39;49m\u001b[38;5;124;43mtest\u001b[39;49m\u001b[38;5;124;43m'\u001b[39;49m\u001b[43m)\u001b[49m\n\u001b[1;32m     10\u001b[0m     dim_list\u001b[38;5;241m.\u001b[39mappend(\u001b[38;5;28mlen\u001b[39m(nonzero_dim(model1\u001b[38;5;241m.\u001b[39mstate_dict()[\u001b[38;5;124m'\u001b[39m\u001b[38;5;124mlayer2.weight\u001b[39m\u001b[38;5;124m'\u001b[39m]\u001b[38;5;241m.\u001b[39mT, \u001b[38;5;241m1e-5\u001b[39m)))\n\u001b[1;32m     11\u001b[0m res1 \u001b[38;5;241m=\u001b[39m Counter(dim_list)\n",
      "File \u001b[0;32m~/test_model.py:205\u001b[0m, in \u001b[0;36mtrain_model\u001b[0;34m(config, state)\u001b[0m\n\u001b[1;32m    203\u001b[0m \u001b[38;5;28;01mif\u001b[39;00m train_custom_list[epoch] \u001b[38;5;241m<\u001b[39m best_loss \u001b[38;5;241m-\u001b[39m param_diff:\n\u001b[1;32m    204\u001b[0m     best_loss \u001b[38;5;241m=\u001b[39m train_custom_list[epoch]\n\u001b[0;32m--> 205\u001b[0m     best_params \u001b[38;5;241m=\u001b[39m copy\u001b[38;5;241m.\u001b[39mdeepcopy(current_params)\n\u001b[1;32m    206\u001b[0m \u001b[38;5;28;01melse\u001b[39;00m:\n\u001b[1;32m    207\u001b[0m     model\u001b[38;5;241m.\u001b[39mload_state_dict(best_params)\n",
      "File \u001b[0;32m/usr/lib/python3.8/copy.py:172\u001b[0m, in \u001b[0;36mdeepcopy\u001b[0;34m(x, memo, _nil)\u001b[0m\n\u001b[1;32m    170\u001b[0m                 y \u001b[38;5;241m=\u001b[39m x\n\u001b[1;32m    171\u001b[0m             \u001b[38;5;28;01melse\u001b[39;00m:\n\u001b[0;32m--> 172\u001b[0m                 y \u001b[38;5;241m=\u001b[39m \u001b[43m_reconstruct\u001b[49m\u001b[43m(\u001b[49m\u001b[43mx\u001b[49m\u001b[43m,\u001b[49m\u001b[43m \u001b[49m\u001b[43mmemo\u001b[49m\u001b[43m,\u001b[49m\u001b[43m \u001b[49m\u001b[38;5;241;43m*\u001b[39;49m\u001b[43mrv\u001b[49m\u001b[43m)\u001b[49m\n\u001b[1;32m    174\u001b[0m \u001b[38;5;66;03m# If is its own copy, don't memoize.\u001b[39;00m\n\u001b[1;32m    175\u001b[0m \u001b[38;5;28;01mif\u001b[39;00m y \u001b[38;5;129;01mis\u001b[39;00m \u001b[38;5;129;01mnot\u001b[39;00m x:\n",
      "File \u001b[0;32m/usr/lib/python3.8/copy.py:296\u001b[0m, in \u001b[0;36m_reconstruct\u001b[0;34m(x, memo, func, args, state, listiter, dictiter, deepcopy)\u001b[0m\n\u001b[1;32m    294\u001b[0m     \u001b[38;5;28;01mfor\u001b[39;00m key, value \u001b[38;5;129;01min\u001b[39;00m dictiter:\n\u001b[1;32m    295\u001b[0m         key \u001b[38;5;241m=\u001b[39m deepcopy(key, memo)\n\u001b[0;32m--> 296\u001b[0m         value \u001b[38;5;241m=\u001b[39m \u001b[43mdeepcopy\u001b[49m\u001b[43m(\u001b[49m\u001b[43mvalue\u001b[49m\u001b[43m,\u001b[49m\u001b[43m \u001b[49m\u001b[43mmemo\u001b[49m\u001b[43m)\u001b[49m\n\u001b[1;32m    297\u001b[0m         y[key] \u001b[38;5;241m=\u001b[39m value\n\u001b[1;32m    298\u001b[0m \u001b[38;5;28;01melse\u001b[39;00m:\n",
      "File \u001b[0;32m/usr/lib/python3.8/copy.py:153\u001b[0m, in \u001b[0;36mdeepcopy\u001b[0;34m(x, memo, _nil)\u001b[0m\n\u001b[1;32m    151\u001b[0m copier \u001b[38;5;241m=\u001b[39m \u001b[38;5;28mgetattr\u001b[39m(x, \u001b[38;5;124m\"\u001b[39m\u001b[38;5;124m__deepcopy__\u001b[39m\u001b[38;5;124m\"\u001b[39m, \u001b[38;5;28;01mNone\u001b[39;00m)\n\u001b[1;32m    152\u001b[0m \u001b[38;5;28;01mif\u001b[39;00m copier \u001b[38;5;129;01mis\u001b[39;00m \u001b[38;5;129;01mnot\u001b[39;00m \u001b[38;5;28;01mNone\u001b[39;00m:\n\u001b[0;32m--> 153\u001b[0m     y \u001b[38;5;241m=\u001b[39m \u001b[43mcopier\u001b[49m\u001b[43m(\u001b[49m\u001b[43mmemo\u001b[49m\u001b[43m)\u001b[49m\n\u001b[1;32m    154\u001b[0m \u001b[38;5;28;01melse\u001b[39;00m:\n\u001b[1;32m    155\u001b[0m     reductor \u001b[38;5;241m=\u001b[39m dispatch_table\u001b[38;5;241m.\u001b[39mget(\u001b[38;5;28mcls\u001b[39m)\n",
      "File \u001b[0;32m~/.local/lib/python3.8/site-packages/torch/_tensor.py:110\u001b[0m, in \u001b[0;36mTensor.__deepcopy__\u001b[0;34m(self, memo)\u001b[0m\n\u001b[1;32m    103\u001b[0m         \u001b[38;5;28;01mraise\u001b[39;00m \u001b[38;5;167;01mRuntimeError\u001b[39;00m(\u001b[38;5;124m\"\u001b[39m\u001b[38;5;124mThe default implementation of __deepcopy__() for wrapper subclasses \u001b[39m\u001b[38;5;124m\"\u001b[39m\n\u001b[1;32m    104\u001b[0m                            \u001b[38;5;124m\"\u001b[39m\u001b[38;5;124monly works for subclass types that implement clone() and for which \u001b[39m\u001b[38;5;124m\"\u001b[39m\n\u001b[1;32m    105\u001b[0m                            \u001b[38;5;124m\"\u001b[39m\u001b[38;5;124mcloning returns another instance of the same subclass. You should either \u001b[39m\u001b[38;5;124m\"\u001b[39m\n\u001b[1;32m    106\u001b[0m                            \u001b[38;5;124m\"\u001b[39m\u001b[38;5;124mproperly implement clone() for your subclass or override __deepcopy__() \u001b[39m\u001b[38;5;124m\"\u001b[39m\n\u001b[1;32m    107\u001b[0m                            \u001b[38;5;124m\"\u001b[39m\u001b[38;5;124mif it is intended behavior for clone() to return an instance of a \u001b[39m\u001b[38;5;124m\"\u001b[39m\n\u001b[1;32m    108\u001b[0m                            \u001b[38;5;124m\"\u001b[39m\u001b[38;5;124mdifferent type.\u001b[39m\u001b[38;5;124m\"\u001b[39m)\n\u001b[1;32m    109\u001b[0m \u001b[38;5;28;01melse\u001b[39;00m:\n\u001b[0;32m--> 110\u001b[0m     new_storage \u001b[38;5;241m=\u001b[39m \u001b[38;5;28;43mself\u001b[39;49m\u001b[38;5;241;43m.\u001b[39;49m\u001b[43mstorage\u001b[49m\u001b[43m(\u001b[49m\u001b[43m)\u001b[49m\u001b[38;5;241;43m.\u001b[39;49m\u001b[43m__deepcopy__\u001b[49m\u001b[43m(\u001b[49m\u001b[43mmemo\u001b[49m\u001b[43m)\u001b[49m\n\u001b[1;32m    111\u001b[0m     \u001b[38;5;28;01mif\u001b[39;00m \u001b[38;5;28mself\u001b[39m\u001b[38;5;241m.\u001b[39mis_quantized:\n\u001b[1;32m    112\u001b[0m         \u001b[38;5;66;03m# quantizer_params can be different type based on torch attribute\u001b[39;00m\n\u001b[1;32m    113\u001b[0m         quantizer_params: Union[Tuple[torch\u001b[38;5;241m.\u001b[39mqscheme, \u001b[38;5;28mfloat\u001b[39m, \u001b[38;5;28mint\u001b[39m], Tuple[torch\u001b[38;5;241m.\u001b[39mqscheme, Tensor, Tensor, \u001b[38;5;28mint\u001b[39m]]\n",
      "File \u001b[0;32m~/.local/lib/python3.8/site-packages/torch/storage.py:569\u001b[0m, in \u001b[0;36m_TypedStorage.__deepcopy__\u001b[0;34m(self, memo)\u001b[0m\n\u001b[1;32m    568\u001b[0m \u001b[38;5;28;01mdef\u001b[39;00m \u001b[38;5;21m__deepcopy__\u001b[39m(\u001b[38;5;28mself\u001b[39m, memo):\n\u001b[0;32m--> 569\u001b[0m     \u001b[38;5;28;01mreturn\u001b[39;00m \u001b[38;5;28mself\u001b[39m\u001b[38;5;241m.\u001b[39m_new_wrapped_storage(\u001b[43mcopy\u001b[49m\u001b[38;5;241;43m.\u001b[39;49m\u001b[43mdeepcopy\u001b[49m\u001b[43m(\u001b[49m\u001b[38;5;28;43mself\u001b[39;49m\u001b[38;5;241;43m.\u001b[39;49m\u001b[43m_storage\u001b[49m\u001b[43m,\u001b[49m\u001b[43m \u001b[49m\u001b[43mmemo\u001b[49m\u001b[43m)\u001b[49m)\n",
      "File \u001b[0;32m/usr/lib/python3.8/copy.py:153\u001b[0m, in \u001b[0;36mdeepcopy\u001b[0;34m(x, memo, _nil)\u001b[0m\n\u001b[1;32m    151\u001b[0m copier \u001b[38;5;241m=\u001b[39m \u001b[38;5;28mgetattr\u001b[39m(x, \u001b[38;5;124m\"\u001b[39m\u001b[38;5;124m__deepcopy__\u001b[39m\u001b[38;5;124m\"\u001b[39m, \u001b[38;5;28;01mNone\u001b[39;00m)\n\u001b[1;32m    152\u001b[0m \u001b[38;5;28;01mif\u001b[39;00m copier \u001b[38;5;129;01mis\u001b[39;00m \u001b[38;5;129;01mnot\u001b[39;00m \u001b[38;5;28;01mNone\u001b[39;00m:\n\u001b[0;32m--> 153\u001b[0m     y \u001b[38;5;241m=\u001b[39m \u001b[43mcopier\u001b[49m\u001b[43m(\u001b[49m\u001b[43mmemo\u001b[49m\u001b[43m)\u001b[49m\n\u001b[1;32m    154\u001b[0m \u001b[38;5;28;01melse\u001b[39;00m:\n\u001b[1;32m    155\u001b[0m     reductor \u001b[38;5;241m=\u001b[39m dispatch_table\u001b[38;5;241m.\u001b[39mget(\u001b[38;5;28mcls\u001b[39m)\n",
      "File \u001b[0;32m~/.local/lib/python3.8/site-packages/torch/storage.py:89\u001b[0m, in \u001b[0;36m_StorageBase.__deepcopy__\u001b[0;34m(self, memo)\u001b[0m\n\u001b[1;32m     87\u001b[0m \u001b[38;5;28;01mif\u001b[39;00m \u001b[38;5;28mself\u001b[39m\u001b[38;5;241m.\u001b[39m_cdata \u001b[38;5;129;01min\u001b[39;00m memo:\n\u001b[1;32m     88\u001b[0m     \u001b[38;5;28;01mreturn\u001b[39;00m memo[\u001b[38;5;28mself\u001b[39m\u001b[38;5;241m.\u001b[39m_cdata]\n\u001b[0;32m---> 89\u001b[0m new_storage \u001b[38;5;241m=\u001b[39m \u001b[38;5;28;43mself\u001b[39;49m\u001b[38;5;241;43m.\u001b[39;49m\u001b[43mclone\u001b[49m\u001b[43m(\u001b[49m\u001b[43m)\u001b[49m\n\u001b[1;32m     90\u001b[0m memo[\u001b[38;5;28mself\u001b[39m\u001b[38;5;241m.\u001b[39m_cdata] \u001b[38;5;241m=\u001b[39m new_storage\n\u001b[1;32m     91\u001b[0m \u001b[38;5;28;01mreturn\u001b[39;00m new_storage\n",
      "File \u001b[0;32m~/.local/lib/python3.8/site-packages/torch/storage.py:103\u001b[0m, in \u001b[0;36m_StorageBase.clone\u001b[0;34m(self)\u001b[0m\n\u001b[1;32m    101\u001b[0m \u001b[38;5;28;01mdef\u001b[39;00m \u001b[38;5;21mclone\u001b[39m(\u001b[38;5;28mself\u001b[39m):\n\u001b[1;32m    102\u001b[0m     \u001b[38;5;124;03m\"\"\"Returns a copy of this storage\"\"\"\u001b[39;00m\n\u001b[0;32m--> 103\u001b[0m     \u001b[38;5;28;01mreturn\u001b[39;00m \u001b[38;5;28;43mtype\u001b[39;49m\u001b[43m(\u001b[49m\u001b[38;5;28;43mself\u001b[39;49m\u001b[43m)\u001b[49m\u001b[43m(\u001b[49m\u001b[38;5;28;43mself\u001b[39;49m\u001b[38;5;241;43m.\u001b[39;49m\u001b[43mnbytes\u001b[49m\u001b[43m(\u001b[49m\u001b[43m)\u001b[49m\u001b[43m,\u001b[49m\u001b[43m \u001b[49m\u001b[43mdevice\u001b[49m\u001b[38;5;241;43m=\u001b[39;49m\u001b[38;5;28;43mself\u001b[39;49m\u001b[38;5;241;43m.\u001b[39;49m\u001b[43mdevice\u001b[49m\u001b[43m)\u001b[49m\u001b[38;5;241;43m.\u001b[39;49m\u001b[43mcopy_\u001b[49m\u001b[43m(\u001b[49m\u001b[38;5;28;43mself\u001b[39;49m\u001b[43m)\u001b[49m\n",
      "\u001b[0;31mKeyboardInterrupt\u001b[0m: "
     ]
    }
   ],
   "source": [
    "torch.set_printoptions(sci_mode=False)\n",
    "\n",
    "dim_list = []\n",
    "\n",
    "print(best_config1)\n",
    "for i in range(100):\n",
    "    best_config1['data_seed'] = i \n",
    "    print(i+1,'iteration')\n",
    "    train_mse_list1, val_mse_list1, train_custom_list1, val_custom_list1, model1 = train_model(best_config1, state = 'test')\n",
    "    dim_list.append(len(nonzero_dim(model1.state_dict()['layer2.weight'].T, 1e-5)))\n",
    "res1 = Counter(dim_list)\n",
    "print(res1)"
   ]
  },
  {
   "cell_type": "markdown",
   "id": "ce9e10ed-df40-4912-b404-6ce6cb9878fb",
   "metadata": {},
   "source": [
    "## sample 200"
   ]
  },
  {
   "cell_type": "code",
   "execution_count": null,
   "id": "82ecf99c-6319-4438-87f0-fa709915100d",
   "metadata": {},
   "outputs": [
    {
     "name": "stdout",
     "output_type": "stream",
     "text": [
      "{'h_dim1': 10, 'h_dim2': 20, 'sample_size': 200, 'num_features': 20, 'lambda_0': 0.05, 'lambda_1': 0.01, 'lr': 0.0005, 'epoch': 5000, 'seed': -1, 'model_num': 'model1', 'num_cv': 5, 'or_pen': 'pro', 'dim': 'unknown', 'data_seed': 100}\n",
      "1 iteration\n",
      "2 iteration\n",
      "3 iteration\n",
      "4 iteration\n",
      "5 iteration\n",
      "6 iteration\n",
      "7 iteration\n",
      "8 iteration\n"
     ]
    }
   ],
   "source": [
    "best_config1['sample_size'] = 200\n",
    "dim_list = []\n",
    "print(best_config1)\n",
    "for i in range(100):\n",
    "    best_config1['data_seed'] = i \n",
    "    print(i+1,'iteration')\n",
    "    train_mse_list1, val_mse_list1, train_custom_list1, val_custom_list1, model1 = train_model(best_config1, state = 'test')\n",
    "    dim_list.append(len(nonzero_dim(model1.state_dict()['layer2.weight'].T, 1e-5)))\n",
    "res2 = Counter(dim_list)\n",
    "print(res2)"
   ]
  },
  {
   "cell_type": "code",
   "execution_count": 20,
   "id": "b6a39da1-2344-4eca-a6d0-ad28427eeaa2",
   "metadata": {},
   "outputs": [
    {
     "name": "stdout",
     "output_type": "stream",
     "text": [
      "{'h_dim1': 1, 'h_dim2': 20, 'sample_size': 200, 'num_features': 20, 'lambda_0': 0.001, 'lr': 0.00025, 'epoch': 2000, 'seed': -1, 'model_num': 'model2', 'num_cv': 5, 'or_pen': 'pro', 'dim': 'known', 'data_seed': -1}\n",
      "1 iteration\n",
      "tensor([[ 0.2296,  0.4956,  0.7658,  0.4515, -0.6526,  0.3891,  0.4414, -0.1398,\n",
      "          0.3237, -0.1823,  0.4606,  0.3069, -0.2081,  0.1355, -0.2089,  0.1600,\n",
      "          0.2243, -0.2878,  0.1959, -0.0518]])\n",
      "2 iteration\n",
      "tensor([[-0.5899, -0.5829, -0.6830, -0.4332, -0.1759, -0.1072,  0.0357,  0.3604,\n",
      "         -0.6653,  0.2302, -0.2686,  0.2838, -0.4027,  0.2363, -0.1994,  0.5544,\n",
      "         -0.2817, -0.0178, -0.0235,  0.0660]])\n",
      "3 iteration\n",
      "tensor([[-0.2973, -0.3338, -0.2532, -0.3761,  0.0008,  0.0501, -0.0235, -0.0378,\n",
      "         -0.0054, -0.2073, -0.0068,  0.0921,  0.0805, -0.1361,  0.0677, -0.1601,\n",
      "          0.3322, -0.0401,  0.0118, -0.2330]])\n",
      "4 iteration\n",
      "tensor([[ 0.4842,  0.5997,  1.0141,  0.7944,  0.4398,  0.1143,  0.6003, -0.0091,\n",
      "         -0.0793, -0.2952,  0.0033,  0.4020,  0.2050, -0.5347, -0.0700,  0.4959,\n",
      "         -0.1908,  0.3307, -0.0275,  0.3544]])\n",
      "5 iteration\n",
      "tensor([[-0.3719, -0.4666, -0.4526, -0.2000, -0.1321, -0.1173,  0.1774,  0.0203,\n",
      "          0.1902,  0.0318,  0.0953, -0.1427,  0.0885,  0.1281,  0.0931,  0.1384,\n",
      "         -0.2175,  0.0746,  0.1104, -0.0109]])\n",
      "6 iteration\n",
      "tensor([[-0.4707, -0.3503, -0.2600, -0.8646, -0.4337,  0.0253, -0.7789, -0.1392,\n",
      "          0.3653,  0.1018, -0.2303,  0.1493,  0.0906, -0.5064,  0.4882, -0.1397,\n",
      "         -0.2364,  0.2698, -0.5935, -0.9142]])\n",
      "7 iteration\n",
      "tensor([[-0.7125, -0.7762, -0.8138, -0.5701, -0.5132,  0.2342, -0.1171, -0.4821,\n",
      "          0.5450,  0.0237, -0.3024, -0.2447,  0.2882, -0.4013,  0.4830, -0.2242,\n",
      "         -0.7236, -0.1834,  0.2060, -0.3921]])\n",
      "8 iteration\n",
      "tensor([[ 1.1638,  0.2212,  0.4313,  0.9279,  0.4424,  0.9912,  0.3744, -0.6270,\n",
      "          0.1322, -0.5396,  0.5785, -0.0931,  0.0592,  0.5268,  1.3469, -0.8108,\n",
      "          0.7790,  0.0622, -0.2215, -0.2077]])\n",
      "9 iteration\n",
      "tensor([[ 0.3565,  0.2534,  0.4492,  0.2440, -0.1357, -0.0451, -0.0236, -0.1530,\n",
      "         -0.0206, -0.0387,  0.2330, -0.0534,  0.0248, -0.1274,  0.2709, -0.2930,\n",
      "          0.1314,  0.0663, -0.0234, -0.0123]])\n",
      "10 iteration\n",
      "tensor([[ 0.3640,  0.8223,  0.7500,  0.9783,  0.4220, -0.0120,  0.0912, -0.9206,\n",
      "          0.4141,  0.4783,  0.2020, -0.1227,  0.5625, -0.3320,  0.2434, -0.6611,\n",
      "          0.3856,  0.4379, -0.0384,  0.5069]])\n",
      "11 iteration\n",
      "tensor([[ 0.7338,  0.2746,  0.5307,  0.7935,  0.3092,  0.6971, -0.1115,  0.6842,\n",
      "         -0.2752,  0.1354,  0.3601,  0.8114,  0.6131, -0.8437,  0.1178,  0.0570,\n",
      "          0.2218,  0.9676, -1.0210, -0.5114]])\n",
      "12 iteration\n",
      "tensor([[-0.4023, -0.4478, -0.1501, -0.2396, -0.1035, -0.0049,  0.0384, -0.0840,\n",
      "          0.0563,  0.0782,  0.1415, -0.2933,  0.3589, -0.2063, -0.1456,  0.3717,\n",
      "         -0.1473,  0.1113, -0.1825, -0.0008]])\n",
      "13 iteration\n",
      "tensor([[-0.2142, -0.5019, -0.6350,  0.0741, -0.3050,  0.3213, -0.2542, -0.0843,\n",
      "         -0.2470,  0.0776, -0.1557,  0.1783, -0.1906, -0.3691,  0.4232, -0.0310,\n",
      "         -0.0892,  0.1168,  0.0091,  0.1536]])\n",
      "14 iteration\n",
      "tensor([[-0.2455, -0.8352, -0.9838, -0.6141,  0.6324, -0.5221, -0.0243,  0.2486,\n",
      "         -0.1339,  0.2983, -0.2446,  0.2902,  0.0129,  0.0938,  0.5610, -0.3994,\n",
      "         -0.0403,  0.0624, -0.2153,  0.1735]])\n",
      "15 iteration\n",
      "tensor([[ 1.0812,  0.1363,  0.6245,  0.4545, -0.1236,  0.1147,  0.5188, -0.4497,\n",
      "          0.4567, -0.0460,  0.1249, -0.0593, -0.1254,  0.0731, -0.5073,  0.0621,\n",
      "          0.3362, -0.1437, -0.0502,  0.0255]])\n",
      "16 iteration\n",
      "tensor([[-0.3972, -0.2853, -1.0099, -0.0503, -0.1145,  0.0827,  0.0288,  0.1517,\n",
      "         -0.4518,  0.0265, -0.3571,  0.4886, -0.1930, -0.0048,  0.0351,  0.1154,\n",
      "         -0.4046,  0.1640,  0.0407,  0.1293]])\n",
      "17 iteration\n",
      "tensor([[ 0.4980,  0.4996,  0.4773,  0.4183, -0.1372, -0.2552,  0.2656,  0.2953,\n",
      "         -0.4220, -0.0544,  0.0410,  0.1713,  0.0576, -0.4818,  0.2288, -0.0150,\n",
      "          0.0757, -0.0235,  0.2989, -0.0720]])\n",
      "18 iteration\n",
      "tensor([[ 0.4971,  0.3911,  0.4183,  0.3876,  0.1080, -0.0393,  0.0686,  0.0092,\n",
      "          0.2467, -0.3547,  0.1173,  0.3485, -0.2593,  0.1684, -0.3724,  0.4106,\n",
      "          0.0900, -0.2648,  0.4663, -0.3526]])\n",
      "19 iteration\n",
      "tensor([[-0.3793, -0.5599, -0.5663, -0.4586,  0.0784, -0.2588,  0.5253, -0.3581,\n",
      "         -0.0441,  0.4038, -0.1122, -0.2527, -0.1317,  0.4103, -0.8007,  0.5873,\n",
      "         -0.0558,  0.3351, -0.4763, -0.1611]])\n",
      "20 iteration\n",
      "tensor([[ 0.1104, -0.7260, -0.4557, -0.3890,  0.0255,  0.1587,  0.1815, -0.3781,\n",
      "         -0.0942,  0.1615,  0.1137, -0.1347, -0.1813,  0.1070,  0.1453, -0.0362,\n",
      "          0.0633,  0.0837,  0.1541, -0.2806]])\n",
      "21 iteration\n",
      "tensor([[ 0.4755,  0.7796, -0.1635,  0.7547,  0.5205, -0.2109,  0.2935, -0.3089,\n",
      "          0.0770, -0.6333,  0.0814,  0.4058, -0.2754, -0.5845,  0.1497, -0.0136,\n",
      "         -0.3254,  0.8423,  0.1556,  0.6673]])\n",
      "22 iteration\n",
      "tensor([[ 0.2195,  0.8728,  0.9422,  0.2887, -0.0866, -0.1516, -0.5749,  1.0124,\n",
      "          0.4653, -0.8451,  0.3631,  0.0127, -0.4168, -0.0519, -0.0107,  0.6743,\n",
      "         -0.4740,  0.1935,  0.3266,  0.3469]])\n",
      "23 iteration\n",
      "tensor([[ 0.6437,  0.7861,  0.6209,  1.1240, -0.3459,  0.9514, -0.2477,  0.0103,\n",
      "          0.0943,  0.1794, -0.1674, -0.7415, -0.0406,  0.2877,  0.0245,  0.4041,\n",
      "         -0.0709,  0.2400, -0.3975, -0.0850]])\n",
      "24 iteration\n",
      "tensor([[-0.8430, -1.0079, -0.5864, -0.4670, -0.5895, -0.2366, -0.2310,  0.0671,\n",
      "         -0.0735,  0.4212,  0.3519,  0.5745, -1.0148,  0.1374,  0.2582,  0.1058,\n",
      "          0.0127,  0.6857, -0.2166, -0.1326]])\n",
      "25 iteration\n",
      "tensor([[-0.1159,  0.6285,  0.3847,  0.0839,  0.0424,  0.1732, -0.1359, -0.0559,\n",
      "          0.1026, -0.1256, -0.1542,  0.2302, -0.2421,  0.1876, -0.1922,  0.1197,\n",
      "         -0.0958, -0.0237,  0.0036, -0.1179]])\n",
      "26 iteration\n",
      "tensor([[ 1.0534,  0.7664,  0.3773,  0.7119,  0.6494,  0.3234,  0.2352, -0.5892,\n",
      "         -0.7139,  0.1939,  0.3655, -0.3064, -0.3997,  0.6993, -0.0421, -0.2351,\n",
      "         -0.4074,  0.4385, -0.5649,  0.1403]])\n",
      "27 iteration\n",
      "tensor([[-0.2285, -0.0009, -0.6669, -0.2508,  0.0139,  0.0281,  0.0841, -0.3234,\n",
      "          0.2397,  0.2221, -0.2117, -0.1284,  0.2107, -0.1341,  0.1774, -0.0993,\n",
      "         -0.4595,  0.3660, -0.1233, -0.1768]])\n",
      "28 iteration\n",
      "tensor([[ 0.1908,  0.4990,  0.4573,  0.2620, -0.1667,  0.1479,  0.0238, -0.0200,\n",
      "          0.0228,  0.2813, -0.1406,  0.0135, -0.1037,  0.4234, -0.0245, -0.2612,\n",
      "          0.0850, -0.0069, -0.1081, -0.0148]])\n",
      "29 iteration\n",
      "tensor([[-0.6498, -0.4191, -0.9591, -0.9606,  0.8910, -0.6095,  0.6798, -0.6656,\n",
      "         -0.0599, -0.4147, -0.5651, -0.1163,  0.6221, -0.3877, -0.7512, -0.1822,\n",
      "          0.4980, -0.2276, -0.7173, -0.0270]])\n",
      "30 iteration\n",
      "tensor([[-0.6044, -0.6060, -0.3643, -0.6429, -0.0012,  0.0457,  0.3549,  0.4502,\n",
      "         -0.2723, -0.1626, -0.1191, -0.0030,  0.0372, -0.0726,  0.1256, -0.1856,\n",
      "         -0.0706, -0.1798,  0.1878, -0.0640]])\n",
      "31 iteration\n",
      "tensor([[-0.7106, -0.6014, -0.4664, -0.4084, -0.0167,  0.0310, -0.0211, -0.4544,\n",
      "         -0.2256,  0.2754, -0.2762,  0.4362,  0.2398, -0.2000, -0.2824, -0.1908,\n",
      "         -0.0518, -0.0241,  0.2575, -0.6866]])\n",
      "32 iteration\n",
      "tensor([[ 0.1507,  0.4900,  0.5287,  1.1157,  0.3734, -0.4521,  0.5197, -0.0715,\n",
      "          0.1595,  0.0647, -0.1325, -0.7378,  0.7380, -0.0585, -0.8394, -0.4028,\n",
      "          0.2409, -0.8223,  0.0068, -0.3869]])\n",
      "33 iteration\n",
      "tensor([[ 0.4994,  0.4455,  0.6000,  0.5256,  0.0352,  0.0108, -0.2796, -0.3913,\n",
      "         -0.3407,  0.2354,  0.1603, -0.2437,  0.9480, -0.1934, -0.7280,  0.1925,\n",
      "          0.4476, -0.3082, -0.4785, -0.0475]])\n",
      "34 iteration\n",
      "tensor([[-0.7244, -0.6858, -0.7190, -0.4105, -0.5793,  0.1428,  0.6837, -0.0102,\n",
      "         -0.1340, -0.2708, -0.0955,  0.0197, -0.0023,  0.2539, -0.7954, -0.1656,\n",
      "          0.2069, -0.1191,  0.1074, -0.1783]])\n",
      "35 iteration\n",
      "tensor([[ 0.4673,  0.1439,  0.5266,  1.0278,  0.4788,  0.3152, -0.1203,  0.6670,\n",
      "         -0.5473,  0.5574, -0.3360, -0.3243, -0.3232, -0.2598,  0.4466, -0.0940,\n",
      "         -0.2782,  0.1861, -0.4705, -0.3401]])\n",
      "36 iteration\n",
      "tensor([[ 0.2698,  0.3784,  0.6565,  0.3671,  0.1003, -0.1569,  0.3198, -0.3594,\n",
      "          0.1917,  0.0402, -0.1023,  0.1739, -0.0637, -0.1458,  0.1854, -0.2524,\n",
      "         -0.0485,  0.3964, -0.0595,  0.0266]])\n",
      "37 iteration\n",
      "tensor([[ 0.1128, -0.8991, -0.6271, -0.7926, -0.0194, -0.6178,  0.5762, -0.2996,\n",
      "         -0.0956,  0.1967,  0.0695,  0.0231, -0.1803,  0.7432, -0.3754,  0.2219,\n",
      "         -0.6038,  0.3678,  0.3473, -0.2642]])\n",
      "38 iteration\n",
      "tensor([[    -0.3323,     -0.5177,     -0.6141,     -0.4213,     -0.4060,\n",
      "             -0.6484,     -0.3356,      0.1657,     -0.1059,     -0.2015,\n",
      "              0.5646,      0.7473,     -0.5399,      0.0308,      0.0977,\n",
      "              0.2960,     -0.7820,     -0.2439,     -0.2599,      0.0006]])\n",
      "39 iteration\n",
      "tensor([[-0.4243, -0.1269, -0.9425, -0.5765, -0.3659, -0.5049,  1.0093,  0.1313,\n",
      "         -0.1515,  0.2254,  0.0105,  0.0225, -0.2171, -0.5998, -0.1248,  0.5981,\n",
      "         -0.0598, -1.1040, -0.3303, -0.1826]])\n",
      "40 iteration\n",
      "tensor([[ 0.3749,  0.3007,  0.4750,  0.3933,  0.0711, -0.3455,  0.1839, -0.0439,\n",
      "         -0.0379,  0.1138,  0.1534, -0.4938,  0.2719, -0.2124,  0.2790,  0.2116,\n",
      "         -0.2288,  0.2810, -0.1176,  0.0553]])\n",
      "41 iteration\n",
      "tensor([[ 0.8215,  0.8239,  1.0768,  0.9335,  0.4200,  0.6083, -0.5078, -0.3452,\n",
      "         -0.6564,  0.2777, -0.4784,  0.0929,  0.1134,  0.6344,  0.0833,  1.0296,\n",
      "         -0.2551, -0.0904, -0.0556,  0.5774]])\n",
      "42 iteration\n",
      "tensor([[ 0.7616,  0.7618,  0.6557,  0.6715,  0.0509, -0.0711,  0.1303, -0.2133,\n",
      "         -0.0297,  0.4058, -0.2145,  0.3408, -0.6138, -0.2694,  0.5581,  0.0496,\n",
      "         -0.1014, -0.2574, -0.5918,  0.3896]])\n",
      "43 iteration\n",
      "tensor([[-0.3813, -1.1519, -0.2859, -0.3298, -0.5429,  0.2364,  0.1291, -0.0793,\n",
      "         -0.3938,  0.9794,  0.0321, -0.3506,  0.3395, -0.1025, -0.6235,  0.1305,\n",
      "         -0.6691, -0.6919,  0.0758,  0.6864]])\n",
      "44 iteration\n",
      "tensor([[ 0.4667,  0.9306,  0.2358,  0.6903,  0.6832,  0.2125,  0.1903,  0.7013,\n",
      "          0.2541, -0.7884,  0.2857,  0.5605,  0.3297, -0.1296,  0.2288, -0.1527,\n",
      "         -0.1905,  0.3243,  0.3298,  0.0758]])\n",
      "45 iteration\n",
      "tensor([[ 0.5974,  0.5610,  0.2957,  0.3219,  0.1973, -0.0262,  0.0122, -0.2401,\n",
      "          0.4022,  0.4513, -0.1687,  0.1565, -0.0896,  0.1295, -0.0778,  0.1262,\n",
      "         -0.2289,  0.1876,  0.0110, -0.1525]])\n",
      "46 iteration\n",
      "tensor([[ 0.6491,  0.7836,  0.7424,  0.8674, -0.3058,  0.7616, -0.2107, -0.2168,\n",
      "         -0.1738,  0.6268, -0.2972,  0.3046,  0.1640, -0.7132,  0.6775,  0.4329,\n",
      "         -0.1259, -0.4516,  0.0380,  0.0519]])\n",
      "47 iteration\n",
      "tensor([[-0.7096, -0.2066, -0.5405, -0.3673, -0.2864,  0.2682,  0.3909, -0.1609,\n",
      "         -0.1247,  0.1727,  0.0706,  0.0205, -0.5915,  0.5744,  0.1210, -0.2902,\n",
      "         -0.0777,  0.1198,  0.1898, -0.0055]])\n",
      "48 iteration\n",
      "tensor([[-0.1491, -0.6626, -0.4162, -0.1253, -0.0604, -0.0230,  0.1464, -0.2943,\n",
      "          0.0627, -0.0915, -0.0725,  0.2730, -0.1661, -0.0502,  0.2243, -0.2767,\n",
      "          0.0039, -0.0624, -0.0232, -0.0631]])\n",
      "49 iteration\n",
      "tensor([[-0.0088, -0.0641, -0.6512, -0.1131, -1.1171, -0.1974,  0.0778, -0.3146,\n",
      "         -0.5930, -0.2863, -0.5384,  0.0185, -0.5600,  0.4503, -0.2071, -0.0748,\n",
      "          0.3317,  0.3105, -0.3618,  0.0128]])\n",
      "50 iteration\n",
      "tensor([[-0.2443, -0.3957, -0.2227, -0.4077,  0.0134,  0.0230, -0.2024, -0.0511,\n",
      "          0.0415,  0.0664,  0.1862, -0.2356, -0.0717,  0.2430, -0.0401, -0.3047,\n",
      "          0.2633, -0.1195,  0.0129, -0.0309]])\n",
      "51 iteration\n",
      "tensor([[ 0.4908,  0.3137,  0.2198,  0.3045,  0.1178, -0.0969,  0.0535,  0.0033,\n",
      "          0.1222, -0.1043, -0.0877, -0.0580, -0.1240, -0.0292,  0.0605, -0.0241,\n",
      "          0.1377, -0.1639,  0.0236,  0.1276]])\n",
      "52 iteration\n",
      "tensor([[ 0.6667,  0.2158,  0.7449,  0.6604,  0.3398, -0.0377,  0.3374, -0.1717,\n",
      "          0.2213,  0.3698, -0.2886, -0.2553,  0.3572, -0.1020,  0.4764, -0.3411,\n",
      "          0.3147, -0.2981, -0.1490,  0.5578]])\n",
      "53 iteration\n",
      "tensor([[-0.4854, -0.3895, -0.2463, -0.2929,  0.0939, -0.1757, -0.0695,  0.1023,\n",
      "          0.1840, -0.2362,  0.1565, -0.0036, -0.1150, -0.0218,  0.2066, -0.1121,\n",
      "          0.1995, -0.1123,  0.1395,  0.0034]])\n",
      "54 iteration\n",
      "tensor([[-0.3347, -0.4289, -0.1986, -0.1321, -0.0907, -0.1413, -0.0138,  0.0616,\n",
      "          0.0246, -0.0622,  0.0666, -0.0487, -0.0845,  0.2226,  0.0264, -0.1724,\n",
      "          0.0172,  0.0261, -0.0314, -0.1723]])\n",
      "55 iteration\n",
      "tensor([[ 0.4335,  0.4278,  0.4123,  0.4180,  0.0593,  0.1652,  0.1217,  0.4317,\n",
      "          0.2435, -0.3120, -0.2531,  0.3161,  0.0880, -0.1137,  0.5173,  0.4668,\n",
      "         -0.1345, -0.4435,  0.1813,  0.3159]])\n",
      "56 iteration\n",
      "tensor([[ 1.0183,  0.7360,  0.8677,  0.6043, -0.2682, -0.2755,  0.6601, -0.0354,\n",
      "          0.2115, -1.0744,  0.3530,  0.9165, -0.7630, -0.1484,  0.1485, -0.4301,\n",
      "          0.7045,  0.6287,  0.1532, -0.1977]])\n",
      "57 iteration\n",
      "tensor([[-0.1399, -0.4787, -1.0450, -0.7802, -0.2077, -0.5534, -0.0956, -0.0117,\n",
      "         -0.4877,  0.1190,  0.2095,  0.4905, -0.3947, -0.9418, -0.0059, -0.3786,\n",
      "          0.1639,  0.3386, -0.3320,  0.5533]])\n",
      "58 iteration\n",
      "tensor([[-0.3892, -0.0918, -0.4457, -0.3786,  0.0591, -0.0843,  0.1143, -0.0069,\n",
      "         -0.0228,  0.0105, -0.0695,  0.0078,  0.2095,  0.0547,  0.0277,  0.2530,\n",
      "         -0.0856, -0.1353,  0.3702, -0.1026]])\n",
      "59 iteration\n",
      "tensor([[-0.4607, -0.6288, -0.6488,  0.0297, -0.5002,  0.1528, -0.9533, -0.8562,\n",
      "         -0.9447,  0.3000,  0.1693,  0.0562,  1.0848, -0.1812, -0.9479, -0.4326,\n",
      "         -0.4640, -0.7062,  0.7180,  1.0269]])\n",
      "60 iteration\n",
      "tensor([[ 0.4752,  0.8761,  0.5778,  0.4936, -0.1114,  0.9682,  0.0387,  0.5377,\n",
      "         -0.5756, -0.2106,  0.3610, -0.4939,  0.4308,  0.2330, -0.1149, -0.2463,\n",
      "         -0.1003,  0.3183, -0.0681,  0.2408]])\n",
      "61 iteration\n",
      "tensor([[ 0.5559,  0.3706,  0.2283,  0.2518,  0.0727,  0.0664,  0.1129, -0.2183,\n",
      "          0.2752, -0.2273, -0.2190,  0.2358,  0.0040,  0.0440,  0.2644, -0.5464,\n",
      "          0.5923, -0.2555,  0.0819, -0.1004]])\n",
      "62 iteration\n",
      "tensor([[ 0.8642,  0.5538,  0.1713,  0.2477,  0.1820,  0.4786,  0.5860,  0.2226,\n",
      "         -0.5485,  0.2586,  0.4944, -0.3307, -0.6098, -0.3704,  0.8208, -0.6771,\n",
      "         -0.2849, -0.4428,  0.7505, -0.2384]])\n",
      "63 iteration\n",
      "tensor([[ 0.6958,  0.5548,  0.9029,  0.2977,  0.7366,  0.7286,  0.6927, -0.1649,\n",
      "         -0.0087,  0.1097,  0.4339, -0.3785, -0.1456,  0.0546,  0.0722,  0.6869,\n",
      "         -0.0506,  0.4766, -0.6652, -0.5852]])\n",
      "64 iteration\n",
      "tensor([[-0.9923, -0.6534, -0.1989, -0.5334, -0.2645,  0.1204,  0.3745, -0.1653,\n",
      "          0.1960,  0.3729, -0.2307, -0.4096,  0.7127, -0.1214, -0.0922, -0.0334,\n",
      "         -0.2359,  0.0762, -0.0267,  0.4310]])\n",
      "65 iteration\n",
      "tensor([[-0.8585, -0.3517, -0.4921, -0.5935, -0.4225,  0.2061,  0.2526, -0.7853,\n",
      "         -0.2287, -0.2216, -0.0408,  0.4952,  0.6265, -0.8303, -0.1031,  0.2401,\n",
      "         -0.8674,  0.1475, -0.0396, -0.0507]])\n",
      "66 iteration\n",
      "tensor([[-0.5060, -0.5032, -0.5342, -0.0657, -0.1899, -0.2933,  0.2420, -0.2106,\n",
      "          0.0187,  0.0506,  0.1206, -0.0414, -0.4084, -0.0347,  0.2474, -0.1725,\n",
      "         -0.0870, -0.3421,  0.1836, -0.2161]])\n",
      "67 iteration\n",
      "tensor([[ 0.3864,  0.7090,  0.3587, -0.0542,  0.4904,  0.2503, -0.2435,  0.1628,\n",
      "         -0.2739,  0.2089,  0.0502, -0.0698,  0.1324, -0.0969, -0.1979, -0.2116,\n",
      "         -0.0385,  0.2122,  0.1771, -0.1574]])\n",
      "68 iteration\n",
      "tensor([[ 0.1614, -0.6342, -0.4711, -0.5618,  0.0593,  0.0947,  0.1999, -0.2584,\n",
      "          0.0124,  0.1215, -0.1961,  0.2692, -0.1206, -0.2172, -0.0570, -0.1675,\n",
      "          0.3579, -0.3856,  0.0018,  0.0986]])\n",
      "69 iteration\n",
      "tensor([[ 0.5609,  0.2418,  1.0318,  0.5187,  0.1070,  0.4003,  0.0815, -0.3861,\n",
      "         -0.4651, -0.5471,  0.4077, -0.9815,  0.0166,  0.3133, -0.7138,  0.3262,\n",
      "          0.6419, -0.0400, -0.6429, -0.3302]])\n",
      "70 iteration\n",
      "tensor([[-0.7809, -0.8123, -0.6605, -0.5283, -0.1852,  0.8257, -0.0710, -0.7097,\n",
      "          0.3504,  0.1992, -0.4133, -0.7415,  0.8479,  0.4387, -0.1863,  0.3222,\n",
      "         -0.3192,  0.0416,  0.0898,  0.3141]])\n",
      "71 iteration\n",
      "tensor([[     0.6350,      0.4671,      0.7909,      0.8099,     -0.3254,\n",
      "              0.1541,     -0.4862,     -0.2041,      0.4549,      0.4436,\n",
      "              0.0804,      0.0620,     -0.0058,     -0.2679,      0.7273,\n",
      "              0.0350,     -0.4095,     -0.0800,     -0.0906,     -0.0007]])\n",
      "72 iteration\n",
      "tensor([[ 0.1742,  1.1110,  0.9270,  0.4570,  0.1437, -0.1359, -0.6780, -0.1100,\n",
      "         -0.3101,  0.8359, -0.5587, -0.3669,  0.2189, -0.3609, -0.3378, -0.2457,\n",
      "          0.4115,  0.0020, -0.2150,  0.3377]])\n",
      "73 iteration\n",
      "tensor([[-0.5849, -0.8109, -0.3163, -1.1155, -0.1149,  0.2008,  0.3613, -0.7279,\n",
      "         -0.3340,  0.5543, -0.0808, -0.0117,  0.7463, -0.3269,  0.5660, -0.2559,\n",
      "         -0.0915, -0.0331,  0.5947, -0.6724]])\n",
      "74 iteration\n",
      "tensor([[-0.8053, -0.5101, -1.0069, -0.4223, -0.6650, -0.6123, -0.0832,  0.1791,\n",
      "         -0.1643, -0.0076, -0.1851, -0.5569,  1.1951,  0.2918, -0.5018,  0.8301,\n",
      "          0.2166,  0.5715, -0.0170,  0.3251]])\n",
      "75 iteration\n",
      "tensor([[-0.7117, -0.7426, -0.7230, -0.7142, -0.6218,  0.1409,  0.0314,  0.5711,\n",
      "         -0.2276,  0.7469, -0.4512,  0.0783, -0.5655, -0.3177, -0.1357,  0.0479,\n",
      "          0.0430, -0.1006,  0.7100, -0.7212]])\n",
      "76 iteration\n",
      "tensor([[-0.3843, -0.9072, -0.6448,  0.0156, -0.7594,  0.0478, -0.6304,  0.6487,\n",
      "          0.0634, -0.4163,  0.2780,  0.3817, -0.2441,  0.2904,  0.1888, -0.1455,\n",
      "          0.3601, -0.2697, -0.3642, -0.4410]])\n",
      "77 iteration\n",
      "tensor([[ 0.2586,  0.2392,  0.1007,  0.3279, -0.0663, -0.1019, -0.0098,  0.0723,\n",
      "         -0.1659,  0.0048, -0.0520,  0.0010,  0.0331,  0.1439, -0.1963,  0.0098,\n",
      "         -0.1083,  0.0202,  0.0380, -0.0026]])\n",
      "78 iteration\n",
      "tensor([[-0.4160, -0.4189, -0.0509, -0.3621, -0.1830, -0.1648, -0.0984,  0.1095,\n",
      "         -0.0184, -0.3359,  0.2791,  0.0699, -0.3298,  0.1521, -0.0106,  0.1011,\n",
      "          0.0254,  0.1852,  0.2063, -0.0646]])\n",
      "79 iteration\n",
      "tensor([[ 0.3272,  0.7540,  0.5454,  0.5344,  0.2074, -1.0503,  0.4722,  0.2150,\n",
      "         -0.3757, -0.2022,  0.4631,  0.0096,  0.4827, -0.6744, -0.2250, -0.1426,\n",
      "          0.2542, -0.2147, -0.3408,  0.0098]])\n",
      "80 iteration\n",
      "tensor([[-0.4778, -0.4443, -0.9175, -0.6275, -0.1449, -0.1732, -0.0573,  0.1150,\n",
      "         -0.3706,  0.5668, -0.1457,  0.1176, -0.4048,  0.0469,  0.0836, -0.2949,\n",
      "          0.3476,  0.0096, -0.6613, -0.1053]])\n",
      "81 iteration\n",
      "tensor([[-0.1883, -0.3058, -0.1652, -0.3324, -0.0884, -0.0590, -0.0876,  0.2058,\n",
      "         -0.0915, -0.1897,  0.0290, -0.0097, -0.0489,  0.0492,  0.1285, -0.1063,\n",
      "          0.0175,  0.1018, -0.0583,  0.0452]])\n",
      "82 iteration\n",
      "tensor([[ 0.9184,  0.7527,  1.3826,  0.5371, -0.1521,  0.0314,  0.7018,  0.1802,\n",
      "          0.5599,  0.1794, -0.5165, -0.7781, -1.2403, -0.0086,  0.4526,  0.5552,\n",
      "         -0.5355,  0.4776, -0.0500, -0.0235]])\n",
      "83 iteration\n",
      "tensor([[-0.5706, -0.5792,  0.2111, -0.6984,  0.0010,  0.0612, -0.2552,  0.2617,\n",
      "          0.0686, -0.0499,  0.0918, -0.0014, -0.2174,  0.1073, -0.2042, -0.1519,\n",
      "          0.0862, -0.0580, -0.1257, -0.0164]])\n",
      "84 iteration\n",
      "tensor([[-0.4255, -0.4097, -0.7402, -0.4078,  0.4111, -0.1314,  0.0144, -0.2019,\n",
      "         -0.1278, -0.2516,  0.1016, -0.1941, -0.1560,  0.4279,  0.1465, -0.0695,\n",
      "         -0.1037, -0.0751,  0.1449, -0.0705]])\n",
      "85 iteration\n",
      "tensor([[-0.3455, -1.1081, -1.0527, -0.3809, -0.4200,  0.3967, -0.1164, -0.2997,\n",
      "          0.6232, -0.4798,  0.2515, -0.2224, -0.7897,  0.4720, -0.1212,  0.4250,\n",
      "          0.5281, -0.6154,  0.0424, -0.0934]])\n",
      "86 iteration\n",
      "tensor([[-0.2548, -0.3032, -0.5232, -0.1459, -0.0803,  0.3431, -0.0779,  0.0304,\n",
      "         -0.0789, -0.0561,  0.0047,  0.1484, -0.1226,  0.1199,  0.0988, -0.0297,\n",
      "          0.1091, -0.0613,  0.0353,  0.0173]])\n",
      "87 iteration\n",
      "tensor([[-0.8299, -0.5695, -0.4600, -0.4170, -0.9610,  0.0970,  0.2559,  0.2230,\n",
      "         -0.0451, -0.5449,  0.1454,  0.3432, -0.2440, -0.0049, -0.1833,  0.7070,\n",
      "         -0.0716, -0.3362,  0.2314, -0.1140]])\n",
      "88 iteration\n",
      "tensor([[ 0.5345,  0.4920,  0.1624,  0.8349,  0.1308, -0.2681,  0.0597, -0.1076,\n",
      "          0.2615, -0.0455,  0.2413, -0.0551,  0.0205, -0.4125,  0.3097, -0.5402,\n",
      "          0.1660, -0.1915,  0.1991, -0.0747]])\n",
      "89 iteration\n",
      "tensor([[ 0.0592,  0.8432,  0.0148,  1.0904,  0.6857,  0.6747, -0.4469,  0.7042,\n",
      "         -0.2775, -0.6055, -0.3843,  0.0051,  0.5517, -0.6898, -0.0111, -0.1866,\n",
      "          0.9141, -0.5767, -0.3121, -0.3153]])\n",
      "90 iteration\n",
      "tensor([[ 0.5368,  0.0913,  0.4809,  0.5532,  0.2087, -0.1014, -0.0168, -0.0435,\n",
      "          0.1381,  0.1456,  0.2284, -0.4151,  0.3051, -0.4065,  0.1691, -0.1677,\n",
      "         -0.0234,  0.0289,  0.2698, -0.1497]])\n",
      "91 iteration\n",
      "tensor([[ 0.2974,  0.3506,  0.1764,  0.1852,  0.0692, -0.1876,  0.1154, -0.0202,\n",
      "          0.0251, -0.1193, -0.0035,  0.0468, -0.0569,  0.0686, -0.3120,  0.2437,\n",
      "         -0.0275,  0.0390,  0.0275, -0.1492]])\n",
      "92 iteration\n",
      "tensor([[ 0.4214,  0.7270,  0.8631,  0.6924,  0.3740,  0.1639, -0.4534,  0.2539,\n",
      "          0.1879, -0.2107,  0.0140, -0.1675,  0.0551, -0.6553,  0.3221,  0.1956,\n",
      "          0.2028,  0.8680,  0.2777, -0.6985]])\n",
      "93 iteration\n",
      "tensor([[-0.3286, -0.3117, -1.0658, -0.5954,  0.0827, -0.8212,  0.0963, -1.3655,\n",
      "          0.8569, -0.9051,  0.8976, -0.7050,  0.3210,  0.6184,  0.4197, -0.1109,\n",
      "          0.5779,  0.1676,  0.7461, -0.2779]])\n",
      "94 iteration\n",
      "tensor([[ 1.0395,  0.3957,  0.0212,  0.6979,  0.3950,  0.1483,  0.3284, -0.3044,\n",
      "         -0.2390, -0.0396,  0.0721, -0.4301, -0.3381,  0.4204, -0.6032, -0.3321,\n",
      "         -0.1108, -0.1498, -0.1076,  0.3968]])\n",
      "95 iteration\n",
      "tensor([[-0.8397, -0.9967, -0.5427, -1.0435, -0.3987, -0.2309,  0.0346,  0.5353,\n",
      "         -0.2260,  0.4040,  0.4890,  0.1852,  0.8051, -0.3033, -1.0125,  0.7110,\n",
      "          0.9044, -0.1828, -0.6631,  0.1608]])\n",
      "96 iteration\n",
      "tensor([[-0.7326, -0.6462, -0.5463, -0.4449,  0.0869,  0.0880,  0.1243,  0.0975,\n",
      "          0.3018, -0.3298,  0.1539,  0.3271, -0.3250, -0.0875,  0.3982,  0.2814,\n",
      "         -0.7918,  0.1642,  0.1560,  0.2909]])\n",
      "97 iteration\n",
      "tensor([[-0.5670, -0.8484, -0.5651, -0.3511, -0.7119, -0.0063,  0.0698, -0.2634,\n",
      "          0.6776,  0.1440, -0.1971,  0.3722,  0.2314, -0.1245,  0.0320,  0.3643,\n",
      "          0.1307, -0.1284,  0.2402, -0.5524]])\n",
      "98 iteration\n",
      "tensor([[-0.1507, -0.4168, -0.6900, -0.3429, -0.1404,  0.3708,  0.2714, -0.0946,\n",
      "         -0.3721, -0.1244,  0.3758, -0.1434, -0.2499,  0.1230,  0.0823, -0.0260,\n",
      "         -0.1345, -0.0620,  0.3394, -0.0136]])\n",
      "99 iteration\n",
      "tensor([[ 0.3058,  0.2706,  0.1646,  0.6124, -0.3917,  0.0957, -0.2003, -0.1915,\n",
      "          0.2672, -0.0916,  0.1351,  0.0098, -0.0535, -0.1198, -0.0189, -0.0104,\n",
      "          0.0667,  0.1034, -0.1052,  0.0922]])\n",
      "100 iteration\n",
      "tensor([[-0.2219, -0.3174,  0.1990, -0.3723, -0.9742, -0.3531,  0.9970, -0.0922,\n",
      "          0.3389, -0.4314,  0.5807,  0.7016, -0.1409,  0.1631, -0.6348, -0.6422,\n",
      "          0.4082,  0.6884, -0.6070, -0.4304]])\n"
     ]
    }
   ],
   "source": [
    "best_config1['sample_size'] = 200\n",
    "print(best_config1)\n",
    "for i in range(100):\n",
    "    best_config1['data_seed'] = i \n",
    "    print(i+1,'iteration')\n",
    "    train_mse_list1, val_mse_list1, train_custom_list1, val_custom_list1, model1 = train_model(best_config1, state = 'test')\n",
    "    print(model1.state_dict()['layer1.weight'])"
   ]
  },
  {
   "cell_type": "markdown",
   "id": "d50be0cd-534a-4160-be27-87817c38444e",
   "metadata": {},
   "source": [
    "# sample 500"
   ]
  },
  {
   "cell_type": "code",
   "execution_count": 29,
   "id": "e2a61170-3ae8-4593-9585-2a9746202493",
   "metadata": {},
   "outputs": [
    {
     "name": "stdout",
     "output_type": "stream",
     "text": [
      "1 iteration\n",
      "2 iteration\n",
      "3 iteration\n",
      "4 iteration\n",
      "5 iteration\n",
      "6 iteration\n",
      "7 iteration\n",
      "8 iteration\n",
      "9 iteration\n",
      "10 iteration\n",
      "11 iteration\n",
      "12 iteration\n",
      "13 iteration\n",
      "14 iteration\n",
      "15 iteration\n",
      "16 iteration\n",
      "17 iteration\n",
      "18 iteration\n",
      "19 iteration\n",
      "20 iteration\n",
      "21 iteration\n",
      "22 iteration\n",
      "23 iteration\n",
      "24 iteration\n",
      "25 iteration\n",
      "26 iteration\n",
      "27 iteration\n",
      "28 iteration\n",
      "29 iteration\n",
      "30 iteration\n",
      "31 iteration\n",
      "32 iteration\n",
      "33 iteration\n",
      "34 iteration\n",
      "35 iteration\n",
      "36 iteration\n",
      "37 iteration\n",
      "38 iteration\n",
      "39 iteration\n",
      "40 iteration\n",
      "41 iteration\n",
      "42 iteration\n",
      "43 iteration\n",
      "44 iteration\n",
      "45 iteration\n",
      "46 iteration\n",
      "47 iteration\n",
      "48 iteration\n",
      "49 iteration\n",
      "50 iteration\n",
      "51 iteration\n",
      "52 iteration\n",
      "53 iteration\n",
      "54 iteration\n",
      "55 iteration\n",
      "56 iteration\n",
      "57 iteration\n",
      "58 iteration\n",
      "59 iteration\n",
      "60 iteration\n",
      "61 iteration\n",
      "62 iteration\n",
      "63 iteration\n",
      "64 iteration\n",
      "65 iteration\n",
      "66 iteration\n",
      "67 iteration\n",
      "68 iteration\n",
      "69 iteration\n",
      "70 iteration\n",
      "71 iteration\n",
      "72 iteration\n",
      "73 iteration\n",
      "74 iteration\n",
      "75 iteration\n",
      "76 iteration\n",
      "77 iteration\n",
      "78 iteration\n",
      "79 iteration\n",
      "80 iteration\n",
      "81 iteration\n",
      "82 iteration\n",
      "83 iteration\n",
      "84 iteration\n",
      "85 iteration\n",
      "86 iteration\n",
      "87 iteration\n",
      "88 iteration\n",
      "89 iteration\n",
      "90 iteration\n",
      "91 iteration\n",
      "92 iteration\n",
      "93 iteration\n",
      "94 iteration\n",
      "95 iteration\n",
      "96 iteration\n",
      "97 iteration\n",
      "98 iteration\n",
      "99 iteration\n",
      "100 iteration\n",
      "Counter({2: 25, 3: 18, 1: 17, 4: 10, 6: 9, 0: 6, 5: 5, 8: 5, 9: 2, 10: 2, 7: 1})\n"
     ]
    }
   ],
   "source": [
    "best_config1['sample_size'] = 500\n",
    "dim_list = []\n",
    "for i in range(100):\n",
    "    best_config1['data_seed'] = i \n",
    "    print(i+1,'iteration')\n",
    "    train_mse_list1, val_mse_list1, train_custom_list1, val_custom_list1, model1 = train_model(best_config1, state = 'test')\n",
    "    dim_list.append(len(nonzero_dim(model1.state_dict()['layer2.weight'].T, 1e-5)))\n",
    "res3 = Counter(dim_list)\n",
    "print(res3)"
   ]
  },
  {
   "cell_type": "markdown",
   "id": "46174bb6-f5d2-42f7-aa5d-34af15106d18",
   "metadata": {},
   "source": [
    "# sample 1000"
   ]
  },
  {
   "cell_type": "code",
   "execution_count": 30,
   "id": "fb29202f-f341-4781-a99d-18fe00d47bb6",
   "metadata": {},
   "outputs": [
    {
     "name": "stdout",
     "output_type": "stream",
     "text": [
      "1 iteration\n",
      "2 iteration\n",
      "3 iteration\n",
      "4 iteration\n",
      "5 iteration\n",
      "6 iteration\n",
      "7 iteration\n",
      "8 iteration\n",
      "9 iteration\n",
      "10 iteration\n",
      "11 iteration\n",
      "12 iteration\n",
      "13 iteration\n",
      "14 iteration\n",
      "15 iteration\n",
      "16 iteration\n",
      "17 iteration\n",
      "18 iteration\n",
      "19 iteration\n",
      "20 iteration\n",
      "21 iteration\n",
      "22 iteration\n",
      "23 iteration\n",
      "24 iteration\n",
      "25 iteration\n",
      "26 iteration\n",
      "27 iteration\n",
      "28 iteration\n",
      "29 iteration\n",
      "30 iteration\n",
      "31 iteration\n",
      "32 iteration\n",
      "33 iteration\n",
      "34 iteration\n",
      "35 iteration\n",
      "36 iteration\n",
      "37 iteration\n",
      "38 iteration\n",
      "39 iteration\n",
      "40 iteration\n",
      "41 iteration\n",
      "42 iteration\n",
      "43 iteration\n",
      "44 iteration\n",
      "45 iteration\n",
      "46 iteration\n",
      "47 iteration\n",
      "48 iteration\n",
      "49 iteration\n",
      "50 iteration\n",
      "51 iteration\n",
      "52 iteration\n",
      "53 iteration\n",
      "54 iteration\n",
      "55 iteration\n",
      "56 iteration\n",
      "57 iteration\n",
      "58 iteration\n",
      "59 iteration\n",
      "60 iteration\n",
      "61 iteration\n",
      "62 iteration\n",
      "63 iteration\n",
      "64 iteration\n",
      "65 iteration\n",
      "66 iteration\n",
      "67 iteration\n",
      "68 iteration\n",
      "69 iteration\n",
      "70 iteration\n",
      "71 iteration\n",
      "72 iteration\n",
      "73 iteration\n",
      "74 iteration\n",
      "75 iteration\n",
      "76 iteration\n",
      "77 iteration\n",
      "78 iteration\n",
      "79 iteration\n",
      "80 iteration\n",
      "81 iteration\n",
      "82 iteration\n",
      "83 iteration\n",
      "84 iteration\n",
      "85 iteration\n",
      "86 iteration\n",
      "87 iteration\n",
      "88 iteration\n",
      "89 iteration\n",
      "90 iteration\n",
      "91 iteration\n",
      "92 iteration\n",
      "93 iteration\n",
      "94 iteration\n",
      "95 iteration\n",
      "96 iteration\n",
      "97 iteration\n",
      "98 iteration\n",
      "99 iteration\n",
      "100 iteration\n",
      "Counter({0: 100})\n"
     ]
    }
   ],
   "source": [
    "best_config1['sample_size'] = 1000\n",
    "dim_list = []\n",
    "for i in range(100):\n",
    "    best_config1['seed'] = i \n",
    "    print(i+1,'iteration')\n",
    "    train_mse_list1, val_mse_list1, train_custom_list1, val_custom_list1, model1 = train_model(best_config1, state = 'test')\n",
    "    dim_list.append(len(nonzero_dim(model1.state_dict()['layer2.weight'].T, 1e-5)))\n",
    "res4 = Counter(dim_list)\n",
    "print(res4)"
   ]
  },
  {
   "cell_type": "markdown",
   "id": "f6a55814-5b25-4d89-a045-26bf96d267cb",
   "metadata": {},
   "source": [
    "# 500"
   ]
  },
  {
   "cell_type": "code",
   "execution_count": null,
   "id": "e7c46710-9e0b-49ed-bfa1-a7923f479e15",
   "metadata": {},
   "outputs": [],
   "source": [
    "best_config1['sample_size'] = 500\n",
    "dim_list = []\n",
    "for i in range(100):\n",
    "    best_config1['seed'] = i \n",
    "    print(i+1,'iteration')\n",
    "    train_mse_list1, val_mse_list1, train_custom_list1, val_custom_list1, model1 = train_model(best_config1, state = 'test')\n",
    "    dim_list.append(len(nonzero_dim(model1.state_dict()['layer2.weight'].T, 1e-5)))\n",
    "res4 = Counter(dim_list)\n",
    "print(res4)"
   ]
  },
  {
   "cell_type": "markdown",
   "id": "13f52eeb-da60-418a-be92-2a16c15b4fea",
   "metadata": {},
   "source": [
    "# sample 20000"
   ]
  },
  {
   "cell_type": "code",
   "execution_count": null,
   "id": "eb853e37-083a-4307-b0d9-1ca25c84ccbd",
   "metadata": {},
   "outputs": [],
   "source": [
    "best_config1['seed'] = 10000\n",
    "for i in range(100):\n",
    "    best_config1['seed'] = i \n",
    "    print(i+1,'iteration')\n",
    "    train_mse_list1, val_mse_list1, train_custom_list1, val_custom_list1, model1 = train_model(best_config1, state = 'test')\n",
    "    print(\"Estimation of dimension\")\n",
    "    print(len(nonzero_dim(model1.state_dict()['layer2.weight'].T, 1e-5)))\n",
    "    dim_list.append(len(nonzero_dim(model1.state_dict()['layer2.weight'].T, 1e-5)))\n",
    "print(len(nonzero_dim(model1.state_dict()['layer2.weight'].T, 1e-5)))\n",
    "res4 = Counter(dim_list)\n",
    "res4"
   ]
  },
  {
   "cell_type": "markdown",
   "id": "cc052f3f-f07e-480a-bbca-bac32dfe6a77",
   "metadata": {},
   "source": [
    "## plot"
   ]
  },
  {
   "cell_type": "code",
   "execution_count": 4,
   "id": "1253b8d7-4120-42ee-bcdb-0a61d7208011",
   "metadata": {},
   "outputs": [
    {
     "data": {
      "image/png": "[encoded data removed]",
      "text/plain": [
       "<Figure size 640x480 with 1 Axes>"
      ]
     },
     "metadata": {},
     "output_type": "display_data"
    }
   ],
   "source": [
    "plt.plot(train_mse_list1, label='Train loss')\n",
    "plt.plot(val_mse_list1, label='Validation loss')\n",
    "plt.title('Train and Validation loss')\n",
    "plt.xlabel('Epoch')\n",
    "plt.ylabel('Loss')\n",
    "plt.legend()\n",
    "plt.show()"
   ]
  },
  {
   "cell_type": "code",
   "execution_count": 24,
   "id": "63c0a8e2-4506-4fe3-aa2e-b6f1f09b26e5",
   "metadata": {},
   "outputs": [
    {
     "data": {
      "image/png": "[encoded data removed]",
      "text/plain": [
       "<Figure size 640x480 with 1 Axes>"
      ]
     },
     "metadata": {},
     "output_type": "display_data"
    }
   ],
   "source": [
    "plt.plot(train_custom_list1, label='Train loss')\n",
    "plt.plot(val_custom_list1, label='Validation loss')\n",
    "plt.title('Train and Validation loss')\n",
    "plt.xlabel('Epoch')\n",
    "plt.ylabel('Loss')\n",
    "plt.legend()\n",
    "plt.show()"
   ]
  },
  {
   "cell_type": "code",
   "execution_count": 13,
   "id": "4c314788-1ff8-4adf-ba06-a0fa7b0ee4ee",
   "metadata": {},
   "outputs": [
    {
     "name": "stdout",
     "output_type": "stream",
     "text": [
      "torch.Size([20, 10])\n"
     ]
    }
   ],
   "source": [
    "print(model1.state_dict()['layer2.weight'].size())"
   ]
  },
  {
   "cell_type": "code",
   "execution_count": 223,
   "id": "8fc14c55-a4f6-41bc-a6b9-631bc345b226",
   "metadata": {},
   "outputs": [],
   "source": [
    "true_beta = torch.zeros(20, 1)\n",
    "true_beta[0] = 1.0\n",
    "true_beta[1] = 0.5\n",
    "true_beta[2] = 1.0\n",
    "\n",
    "true_beta  = true_beta / torch.norm(true_beta)\n",
    "\n",
    "from measure import *\n",
    "\n",
    "est_beta = model1.state_dict()['layer1.weight'][nonzero_dim(model1.state_dict()['layer2.weight'].T,1e-5),:]"
   ]
  },
  {
   "cell_type": "code",
   "execution_count": 224,
   "id": "73eb1d76-8ee2-438c-9da0-d4dbe5761079",
   "metadata": {},
   "outputs": [
    {
     "data": {
      "text/plain": [
       "torch.Size([20, 1])"
      ]
     },
     "execution_count": 224,
     "metadata": {},
     "output_type": "execute_result"
    }
   ],
   "source": [
    "true_beta.size()"
   ]
  },
  {
   "cell_type": "code",
   "execution_count": 227,
   "id": "76423755-75e4-4c1d-b887-ad142e0d71d1",
   "metadata": {},
   "outputs": [],
   "source": [
    "est_beta = est_beta / torch.norm(est_beta)"
   ]
  },
  {
   "cell_type": "code",
   "execution_count": 228,
   "id": "76938612-2414-4702-82a3-1ffedfbbfad2",
   "metadata": {},
   "outputs": [
    {
     "name": "stdout",
     "output_type": "stream",
     "text": [
      "0.7947604656219482\n",
      "0.794760525226593\n"
     ]
    }
   ],
   "source": [
    "print(general_loss(est_beta, true_beta.T))\n",
    "print(projection_loss(est_beta, true_beta.T))"
   ]
  },
  {
   "cell_type": "code",
   "execution_count": 229,
   "id": "3e5de8b3-9efa-47f1-97fc-40a036e8e569",
   "metadata": {},
   "outputs": [
    {
     "name": "stdout",
     "output_type": "stream",
     "text": [
      "0.06769052892923355\n",
      "0.06769052892923355\n"
     ]
    }
   ],
   "source": [
    "dr_beta, _, _ = sdr_init(X, y, 1)\n",
    "\n",
    "print(general_loss(dr_beta.T, true_beta.T))\n",
    "print(projection_loss(dr_beta.T, true_beta.T))"
   ]
  },
  {
   "cell_type": "code",
   "execution_count": 230,
   "id": "d9eaf6a8-c81e-4a3d-9250-65df72b2f210",
   "metadata": {},
   "outputs": [
    {
     "name": "stdout",
     "output_type": "stream",
     "text": [
      "torch.Size([20, 1])\n"
     ]
    }
   ],
   "source": [
    "from init_sdr import *\n",
    "\n",
    "sir_beta = sdr(X, y, dim = 1, mode = 'sir')\n",
    "print(sir_beta.size())"
   ]
  },
  {
   "cell_type": "code",
   "execution_count": 231,
   "id": "b846fea3-f405-4edd-ae42-34fc9cfe6202",
   "metadata": {},
   "outputs": [
    {
     "name": "stdout",
     "output_type": "stream",
     "text": [
      "0.09616237133741379\n",
      "0.09616237133741379\n"
     ]
    }
   ],
   "source": [
    "print(general_loss(sir_beta.T, true_beta.T))\n",
    "print(projection_loss(sir_beta.T, true_beta.T))"
   ]
  },
  {
   "cell_type": "code",
   "execution_count": null,
   "id": "577e6585-ccbd-4654-bda6-063faee3b6f2",
   "metadata": {},
   "outputs": [],
   "source": []
  }
 ],
 "metadata": {
  "kernelspec": {
   "display_name": "Python 3 (ipykernel)",
   "language": "python",
   "name": "python3"
  },
  "language_info": {
   "codemirror_mode": {
    "name": "ipython",
    "version": 3
   },
   "file_extension": ".py",
   "mimetype": "text/x-python",
   "name": "python",
   "nbconvert_exporter": "python",
   "pygments_lexer": "ipython3",
   "version": "3.9.13"
  }
 },
 "nbformat": 4,
 "nbformat_minor": 5
}
